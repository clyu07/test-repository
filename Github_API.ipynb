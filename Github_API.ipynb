{
  "nbformat": 4,
  "nbformat_minor": 0,
  "metadata": {
    "colab": {
      "provenance": []
    },
    "kernelspec": {
      "name": "python3",
      "display_name": "Python 3"
    },
    "language_info": {
      "name": "python"
    }
  },
  "cells": [
    {
      "cell_type": "markdown",
      "source": [
        "# **This is a notebook to show some basic things Github API can do.**\n",
        "\n",
        "It contains following sections:\n",
        "\n",
        "---\n",
        "\n",
        "\n",
        "1. Repositories management\n",
        "2. Issues management. Issues are generally used to to discuss bugs or possible \n",
        "new features.\n",
        "3. Banches. Create a branch to modify the code without changing the original one\n",
        "4. Pull requests. Pull requests are for merging the code after changing the code.\n"
      ],
      "metadata": {
        "id": "tXG0LaQtQUhY"
      }
    },
    {
      "cell_type": "markdown",
      "source": [
        "# **1. Repositories management**"
      ],
      "metadata": {
        "id": "EgN9BaUlRZB2"
      }
    },
    {
      "cell_type": "code",
      "execution_count": 1,
      "metadata": {
        "id": "RamnfxBzwB16"
      },
      "outputs": [],
      "source": [
        "import requests"
      ]
    },
    {
      "cell_type": "code",
      "source": [
        "#get information of an user using fine-grained token, the token is going to expire on 5/10/2023\n",
        "username = 'clyu07'\n",
        "fine_grained_token = ' '\n",
        "\n",
        "url = f'https://api.github.com/users/{username}'\n",
        "headers = {\n",
        "    'Authorization': f'token {fine_grained_token}',\n",
        "    'Accept': 'application/vnd.github+json'\n",
        "}\n",
        "\n",
        "response = requests.get(url, headers=headers)\n",
        "\n",
        "#200 refers that the request is successful \n",
        "if response.status_code == 200:\n",
        "    user_info = response.json()\n",
        "    print(f\"Username: {user_info['login']}\")\n",
        "    print(f\"Name: {user_info['name']}\")\n",
        "    print(f\"Public Repositories: {user_info['public_repos']}\")\n",
        "else:\n",
        "    print(f\"Error: {response.status_code}, {response.text}\")\n"
      ],
      "metadata": {
        "colab": {
          "base_uri": "https://localhost:8080/"
        },
        "id": "LayF6AfswFfx",
        "outputId": "4806e83f-46c4-4974-a21c-86783217bc14"
      },
      "execution_count": 2,
      "outputs": [
        {
          "output_type": "stream",
          "name": "stdout",
          "text": [
            "Username: clyu07\n",
            "Name: Cheng Lyu\n",
            "Public Repositories: 2\n"
          ]
        }
      ]
    },
    {
      "cell_type": "code",
      "source": [
        "#create a new repository, the access token is classic token, the token is going to expire on 5/10/2023\n",
        "access_token = ' '\n",
        "\n",
        "repo_name = 'test-repository'\n",
        "repo_description = 'A test to create a repository using the GitHub API'\n",
        "repo_private = False\n",
        "\n",
        "#why can use repos at the end instead of username: the GitHub API determines which user is authenticated based on the provided token, \n",
        "#so no need to specify username here\n",
        "url = 'https://api.github.com/user/repos'\n",
        "headers = {\n",
        "    'Authorization': f'token {access_token}',\n",
        "    'Accept': 'application/vnd.github+json'\n",
        "}\n",
        "data = {\n",
        "    'name': repo_name,\n",
        "    'description': repo_description,\n",
        "    'private': repo_private\n",
        "}\n",
        "\n",
        "response = requests.post(url, headers=headers, json=data)\n",
        "\n",
        "#201 refers to successfully create\n",
        "if response.status_code == 201:\n",
        "    repo_info = response.json()\n",
        "    print(f\"Successfully created repository: {repo_info['full_name']}\")\n",
        "    print(f\"Repository URL: {repo_info['html_url']}\")\n",
        "else:\n",
        "    print(f\"Error: {response.status_code}, {response.text}\")\n"
      ],
      "metadata": {
        "colab": {
          "base_uri": "https://localhost:8080/"
        },
        "id": "O5nLAAdm3yPg",
        "outputId": "8387f54b-0267-4460-d336-af1d2e630b0f"
      },
      "execution_count": 40,
      "outputs": [
        {
          "output_type": "stream",
          "name": "stdout",
          "text": [
            "Successfully created repository: clyu07/test-repository\n",
            "Repository URL: https://github.com/clyu07/test-repository\n"
          ]
        }
      ]
    },
    {
      "cell_type": "code",
      "source": [
        "#list all repositories \n",
        "username = 'clyu07'\n",
        "url = f'https://api.github.com/users/{username}/repos'\n",
        "\n",
        "response = requests.get(url, headers=headers)\n",
        "\n",
        "if response.status_code == 200:\n",
        "    repos = response.json()\n",
        "    for repo in repos:\n",
        "        print(f\"Repository: {repo['full_name']}\")\n",
        "else:\n",
        "    print(f\"Error: {response.status_code}, {response.text}\")\n"
      ],
      "metadata": {
        "colab": {
          "base_uri": "https://localhost:8080/"
        },
        "id": "vkkFJFYZBkeF",
        "outputId": "ca4f2293-35b0-44ba-fb09-a5455c5f8883"
      },
      "execution_count": 36,
      "outputs": [
        {
          "output_type": "stream",
          "name": "stdout",
          "text": [
            "Repository: clyu07/Cheng\n",
            "Repository: clyu07/test-repository\n"
          ]
        }
      ]
    },
    {
      "cell_type": "code",
      "source": [
        "#show the content in a repository\n",
        "username = 'clyu07'\n",
        "repo_name = 'test-repository'\n",
        "\n",
        "url = f'https://api.github.com/repos/{username}/{repo_name}'\n",
        "\n",
        "response = requests.get(url, headers=headers)\n",
        "\n",
        "if response.status_code == 200:\n",
        "    repo = response.json()\n",
        "    print(f\"Repository: {repo['full_name']}\")\n",
        "    print(f\"Description: {repo['description']}\")\n",
        "    #print(f\"Language: {repo['language']}\")\n",
        "    #print(f\"Forks: {repo['forks_count']}\")\n",
        "    #print(f\"Watchers: {repo['watchers_count']}\")\n",
        "else:\n",
        "    print(f\"Error: {response.status_code}, {response.text}\")\n"
      ],
      "metadata": {
        "colab": {
          "base_uri": "https://localhost:8080/"
        },
        "id": "lZyiyWURCKgG",
        "outputId": "43b2cf0a-5969-47d3-f19b-cd7b49e4d10a"
      },
      "execution_count": 37,
      "outputs": [
        {
          "output_type": "stream",
          "name": "stdout",
          "text": [
            "Repository: clyu07/test-repository\n",
            "Description: A test to create a repository using the GitHub API\n"
          ]
        }
      ]
    },
    {
      "cell_type": "code",
      "source": [
        "#delete a repository\n",
        "username = 'clyu07'\n",
        "repo_name = 'test-repository'\n",
        "url = f'https://api.github.com/repos/{username}/{repo_name}'\n",
        "\n",
        "response = requests.delete(url, headers=headers)\n",
        "\n",
        "if response.status_code == 204:\n",
        "    print(f\"Successfully deleted repository: {username}/{repo_name}\")\n",
        "else:\n",
        "    print(f\"Error: {response.status_code}, {response.text}\")\n"
      ],
      "metadata": {
        "colab": {
          "base_uri": "https://localhost:8080/"
        },
        "id": "OxBGIjmUCc74",
        "outputId": "06bae411-626c-46ce-98b9-4e5247fe63eb"
      },
      "execution_count": 38,
      "outputs": [
        {
          "output_type": "stream",
          "name": "stdout",
          "text": [
            "Successfully deleted repository: clyu07/test-repository\n"
          ]
        }
      ]
    },
    {
      "cell_type": "markdown",
      "source": [
        "# **2. Issue management**"
      ],
      "metadata": {
        "id": "lZn1PNkVRqiY"
      }
    },
    {
      "cell_type": "code",
      "source": [
        "#create an issue under selected repository\n",
        "username = 'clyu07'\n",
        "repo_name = 'test-repository'\n",
        "\n",
        "url = f'https://api.github.com/repos/{username}/{repo_name}/issues'\n",
        "\n",
        "data = {\n",
        "    'title': 'A test issue',\n",
        "    'body': 'Test',\n",
        "    'labels': ['test']\n",
        "}\n",
        "\n",
        "response = requests.post(url, headers=headers, json=data)\n",
        "\n",
        "if response.status_code == 201:\n",
        "    new_issue = response.json()\n",
        "    print(f\"Successfully created issue: {new_issue['title']} ({new_issue['html_url']})\")\n",
        "    print(f\"Issue number: {new_issue['number']}\") \n",
        "else:\n",
        "    print(f\"Error: {response.status_code}, {response.text}\")\n"
      ],
      "metadata": {
        "colab": {
          "base_uri": "https://localhost:8080/"
        },
        "id": "LH--AQXCH-b7",
        "outputId": "696228bd-0771-4c39-c4ff-4535d9970791"
      },
      "execution_count": 49,
      "outputs": [
        {
          "output_type": "stream",
          "name": "stdout",
          "text": [
            "Successfully created issue: A test issue (https://github.com/clyu07/test-repository/issues/2)\n",
            "Issue number: 2\n"
          ]
        }
      ]
    },
    {
      "cell_type": "code",
      "source": [
        "#list issues under selected repository\n",
        "username = 'clyu07'\n",
        "repo_name = 'test-repository'\n",
        "\n",
        "url = f'https://api.github.com/repos/{username}/{repo_name}/issues'\n",
        "headers = {\n",
        "    'Authorization': f'token {access_token}',\n",
        "    'Accept': 'application/vnd.github+json'\n",
        "}\n",
        "\n",
        "response = requests.get(url, headers=headers)\n",
        "\n",
        "if response.status_code == 200:\n",
        "    issues = response.json()\n",
        "    for issue in issues:\n",
        "        print(f\"Issue: {issue['title']} ({issue['html_url']})\")\n",
        "        print(f\"Issue number: {issue['number']}\")\n",
        "else:\n",
        "    print(f\"Error: {response.status_code}, {response.text}\")\n"
      ],
      "metadata": {
        "colab": {
          "base_uri": "https://localhost:8080/"
        },
        "id": "MwO0eZiTIujy",
        "outputId": "6f3e1d83-b665-46d9-e24f-d5a9f47f4d7c"
      },
      "execution_count": 9,
      "outputs": [
        {
          "output_type": "stream",
          "name": "stdout",
          "text": [
            "Issue: A test issue (https://github.com/clyu07/test-repository/issues/2)\n",
            "Issue number: 2\n"
          ]
        }
      ]
    },
    {
      "cell_type": "code",
      "source": [
        "#show the description of an issue\n",
        "username = 'clyu07'\n",
        "repo_name = 'test-repository'\n",
        "issue_number = 1\n",
        "url = f'https://api.github.com/repos/{username}/{repo_name}/issues/{issue_number}'\n",
        "headers = {\n",
        "    'Authorization': f'token {access_token}',\n",
        "    'Accept': 'application/vnd.github+json'\n",
        "}\n",
        "\n",
        "response = requests.get(url, headers=headers)\n",
        "\n",
        "if response.status_code == 200:\n",
        "    issue = response.json()\n",
        "    print(f\"Issue title: {issue['title']}\")\n",
        "    print(f\"Issue description: {issue['body']}\")\n",
        "    print(f\"Issue state: {issue['state']}\")\n",
        "    print(f\"Issue URL: {issue['html_url']}\")\n",
        "else:\n",
        "    print(f\"Error: {response.status_code}, {response.text}\")\n"
      ],
      "metadata": {
        "colab": {
          "base_uri": "https://localhost:8080/"
        },
        "id": "WG3_fPrDJMDF",
        "outputId": "58e07508-987a-4cb6-b46f-e5764d928834"
      },
      "execution_count": 10,
      "outputs": [
        {
          "output_type": "stream",
          "name": "stdout",
          "text": [
            "Issue title: Updated issue \n",
            "Issue description: Updated  description\n",
            "Issue state: closed\n",
            "Issue URL: https://github.com/clyu07/test-repository/issues/1\n"
          ]
        }
      ]
    },
    {
      "cell_type": "code",
      "source": [
        "#update an issue\n",
        "username = 'clyu07'\n",
        "repo_name = 'test-repository'\n",
        "issue_number = 1\n",
        "\n",
        "url = f'https://api.github.com/repos/{username}/{repo_name}/issues/{issue_number}'\n",
        "\n",
        "data = {\n",
        "    'title': 'Updated issue ',\n",
        "    'body': 'Updated  description',\n",
        "    'state': 'closed',  # Change the issue state to closed\n",
        "    'labels': ['Updated']\n",
        "}\n",
        "\n",
        "response = requests.patch(url, headers=headers, json=data)\n",
        "\n",
        "if response.status_code == 200:\n",
        "    updated_issue = response.json()\n",
        "    print(f\"Successfully updated issue: {updated_issue['title']} ({updated_issue['html_url']})\")\n",
        "    print(f\"New state: {updated_issue['state']}\")\n",
        "else:\n",
        "    print(f\"Error: {response.status_code}, {response.text}\")\n"
      ],
      "metadata": {
        "colab": {
          "base_uri": "https://localhost:8080/"
        },
        "id": "oxGsThmjLGcp",
        "outputId": "c51c85a3-92aa-494e-b727-8564afe9528c"
      },
      "execution_count": 11,
      "outputs": [
        {
          "output_type": "stream",
          "name": "stdout",
          "text": [
            "Successfully updated issue: Updated issue  (https://github.com/clyu07/test-repository/issues/1)\n",
            "New state: closed\n"
          ]
        }
      ]
    },
    {
      "cell_type": "code",
      "source": [
        "#add comments to an issue\n",
        "username = 'clyu07'\n",
        "repo_name = 'test-repository'\n",
        "issue_number = 2\n",
        "\n",
        "url = f'https://api.github.com/repos/{username}/{repo_name}/issues/{issue_number}/comments'\n",
        "\n",
        "data = {\n",
        "    'body': 'This is a test comment.'\n",
        "}\n",
        "\n",
        "response = requests.post(url, headers=headers, json=data)\n",
        "\n",
        "if response.status_code == 201:\n",
        "    new_comment = response.json()\n",
        "    print(f\"Successfully added comment: {new_comment['body']} ({new_comment['html_url']})\")\n",
        "else:\n",
        "    print(f\"Error: {response.status_code}, {response.text}\")\n"
      ],
      "metadata": {
        "colab": {
          "base_uri": "https://localhost:8080/"
        },
        "id": "hYGsyfinLiqe",
        "outputId": "02e567f2-aad8-48f7-ece1-b7c6d6745739"
      },
      "execution_count": 12,
      "outputs": [
        {
          "output_type": "stream",
          "name": "stdout",
          "text": [
            "Successfully added comment: This is a test comment. (https://github.com/clyu07/test-repository/issues/2#issuecomment-1533922375)\n"
          ]
        }
      ]
    },
    {
      "cell_type": "markdown",
      "source": [
        "## **3. Branch managment**"
      ],
      "metadata": {
        "id": "mnDgUXJSZEpx"
      }
    },
    {
      "cell_type": "code",
      "source": [
        "# Create a new branch\n",
        "username = 'clyu07'\n",
        "repo_name = 'test-repository'\n",
        "new_branch_name = 'test_branch'\n",
        "base_branch_name = 'main'\n",
        "\n",
        "# Get the latest commit of the base branch\n",
        "url_base = f'https://api.github.com/repos/{username}/{repo_name}/git/refs/heads/{base_branch_name}'\n",
        "\n",
        "response = requests.get(url_base, headers=headers)\n",
        "\n",
        "if response.status_code == 200:\n",
        "    base_branch = response.json()\n",
        "    base_commit_sha = base_branch['object']['sha']\n",
        "\n",
        "    url_new_branch = f'https://api.github.com/repos/{username}/{repo_name}/git/refs'\n",
        "    data = {\n",
        "        'ref': f'refs/heads/{new_branch_name}',\n",
        "        'sha': base_commit_sha\n",
        "    }\n",
        "    response = requests.post(url_new_branch, headers=headers, json=data)\n",
        "\n",
        "    if response.status_code == 201:\n",
        "        print(f\"Successfully created new branch: {new_branch_name}\")\n",
        "    else:\n",
        "        print(f\"Error creating new branch: {response.status_code}, {response.text}\")\n",
        "else:\n",
        "    print(f\"Error getting base branch details: {response.status_code}, {response.text}\")\n"
      ],
      "metadata": {
        "colab": {
          "base_uri": "https://localhost:8080/"
        },
        "id": "_GECP87yZDNL",
        "outputId": "153ab0fe-7ea6-473a-8c77-4934a7f8c65e"
      },
      "execution_count": 19,
      "outputs": [
        {
          "output_type": "stream",
          "name": "stdout",
          "text": [
            "Successfully created new branch: test_branch\n"
          ]
        }
      ]
    },
    {
      "cell_type": "code",
      "source": [
        "#show branches in a repository\n",
        "\n",
        "username = 'clyu07'\n",
        "repo_name = 'test-repository'\n",
        "\n",
        "url = f'https://api.github.com/repos/{username}/{repo_name}/branches'\n",
        "\n",
        "response = requests.get(url, headers=headers)\n",
        "\n",
        "if response.status_code == 200:\n",
        "    branches = response.json()\n",
        "    for branch in branches:\n",
        "        print(f\"Branch: {branch['name']}\")\n",
        "else:\n",
        "    print(f\"Error: {response.status_code}, {response.text}\")\n"
      ],
      "metadata": {
        "colab": {
          "base_uri": "https://localhost:8080/"
        },
        "id": "MsT7Xuwvl7GP",
        "outputId": "dc0bdb7a-230c-4eb7-9385-25c79588c8e4"
      },
      "execution_count": 28,
      "outputs": [
        {
          "output_type": "stream",
          "name": "stdout",
          "text": [
            "Branch: main\n",
            "Branch: test_branch\n"
          ]
        }
      ]
    },
    {
      "cell_type": "markdown",
      "source": [
        "# **4. Pull requests**"
      ],
      "metadata": {
        "id": "_E5I0TOFSADs"
      }
    },
    {
      "cell_type": "code",
      "source": [
        "import requests\n",
        "\n",
        "username = 'clyu07'\n",
        "repo_name = 'test-repository'\n",
        "\n",
        "url = f'https://api.github.com/repos/{username}/{repo_name}/pulls'\n",
        "\n",
        "response = requests.get(url, headers=headers)\n",
        "\n",
        "if response.status_code == 200:\n",
        "    pull_requests = response.json()\n",
        "    for pr in pull_requests:\n",
        "        print(f\"Pull Request: {pr['title']} ({pr['html_url']})\")\n",
        "else:\n",
        "    print(f\"Error: {response.status_code}, {response.text}\")\n"
      ],
      "metadata": {
        "id": "JpsYxqu3R-0h"
      },
      "execution_count": 26,
      "outputs": []
    },
    {
      "cell_type": "code",
      "source": [
        "#create a pull request, this can only work if the two branches are different\n",
        "\n",
        "username = 'clyu07'\n",
        "repo_name = 'test-repository'\n",
        "url = f'https://api.github.com/repos/{username}/{repo_name}/pulls'\n",
        "\n",
        "data = {\n",
        "    'title': 'Pull request test',\n",
        "    'body': 'test',\n",
        "    'head': 'test_branch',  # The name of the branch  to merge\n",
        "    'base': 'main'  # The name of the branch to merge into\n",
        "}\n",
        "\n",
        "response = requests.post(url, headers=headers, json=data)\n",
        "\n",
        "if response.status_code == 201:\n",
        "    new_pr = response.json()\n",
        "    print(f\"Successfully created pull request: {new_pr['title']} ({new_pr['html_url']})\")\n",
        "else:\n",
        "    print(f\"Error: {response.status_code}, {response.text}\")\n"
      ],
      "metadata": {
        "colab": {
          "base_uri": "https://localhost:8080/"
        },
        "id": "2bmawIlqm5xw",
        "outputId": "94f83680-2197-4d37-b69e-7ba39dd54762"
      },
      "execution_count": 32,
      "outputs": [
        {
          "output_type": "stream",
          "name": "stdout",
          "text": [
            "Successfully created pull request: Pull request test (https://github.com/clyu07/test-repository/pull/4)\n"
          ]
        }
      ]
    },
    {
      "cell_type": "code",
      "source": [
        "#show a pull request\n",
        "username = 'clyu07'\n",
        "repo_name = 'test-repository'\n",
        "\n",
        "url = f'https://api.github.com/repos/{username}/{repo_name}/pulls'\n",
        "\n",
        "response = requests.get(url, headers=headers)\n",
        "\n",
        "if response.status_code == 200:\n",
        "    pull_requests = response.json()\n",
        "    for pr in pull_requests:\n",
        "        print(f\"Pull Request: {pr['title']} ({pr['html_url']})\")\n",
        "        print(f\"Pull request state: {pr['state']}\")\n",
        "        print(f\"Pull request description: {pr['body']}\")\n",
        "        print(f\"Pull request number: {pr['number']}\")\n",
        "else:\n",
        "    print(f\"Error: {response.status_code}, {response.text}\")\n"
      ],
      "metadata": {
        "colab": {
          "base_uri": "https://localhost:8080/"
        },
        "id": "W416lPJ9wqvx",
        "outputId": "6e609fd5-c698-46f8-8fbb-caf2ace7cc30"
      },
      "execution_count": 38,
      "outputs": [
        {
          "output_type": "stream",
          "name": "stdout",
          "text": [
            "Pull Request: Pull request test (https://github.com/clyu07/test-repository/pull/4)\n",
            "Pull request state: open\n",
            "Pull request description: test\n",
            "Pull request number: 4\n"
          ]
        }
      ]
    },
    {
      "cell_type": "code",
      "source": [
        "#merge a pull request\n",
        "username = 'clyu07'\n",
        "repo_name = 'test-repository'\n",
        "\n",
        "url = f'https://api.github.com/repos/{username}/{repo_name}/pulls/{pr_number}/merge'\n",
        "\n",
        "data = {\n",
        "    'commit_title': 'Merging pull request',\n",
        "    'commit_message': 'Merging pull request through the GitHub API'\n",
        "}\n",
        "\n",
        "response = requests.put(url, headers=headers, json=data)\n",
        "\n",
        "if response.status_code == 200:\n",
        "    merge_response = response.json()\n",
        "    print(f\"Successfully merged pull request: {merge_response['sha']}\")\n",
        "else:\n",
        "    print(f\"Error: {response.status_code}, {response.text}\")\n"
      ],
      "metadata": {
        "colab": {
          "base_uri": "https://localhost:8080/"
        },
        "id": "IpA2H5Rcxm_0",
        "outputId": "9132f8e3-0d3d-4e38-ef13-5309057e2b01"
      },
      "execution_count": 42,
      "outputs": [
        {
          "output_type": "stream",
          "name": "stdout",
          "text": [
            "Successfully merged pull request: d71bf555a60cb0c72d7044499cbad94ee9b7f919\n"
          ]
        }
      ]
    }
  ]
}